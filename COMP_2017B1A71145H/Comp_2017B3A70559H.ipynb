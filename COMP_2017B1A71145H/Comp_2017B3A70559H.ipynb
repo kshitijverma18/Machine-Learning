{
 "cells": [
  {
   "cell_type": "code",
   "execution_count": 9,
   "metadata": {},
   "outputs": [],
   "source": [
    "import numpy as np\n",
    "import pandas as pd\n",
    "import matplotlib.pyplot as plt\n",
    "import random\n",
    "from sklearn.model_selection import KFold\n",
    "from sklearn.discriminant_analysis import LinearDiscriminantAnalysis\n",
    "from sklearn.linear_model import Perceptron\n",
    "from sklearn.linear_model import LogisticRegression\n",
    "from sklearn.neural_network import MLPClassifier\n",
    "from sklearn.svm import SVC\n",
    "from sklearn.model_selection import cross_val_score\n",
    "from sklearn.metrics import accuracy_score\n",
    "from sklearn.naive_bayes import GaussianNB\n",
    "import statistics\n",
    "plt.style.use(\"seaborn\")"
   ]
  },
  {
   "cell_type": "code",
   "execution_count": 2,
   "metadata": {},
   "outputs": [],
   "source": [
    "data = pd.read_csv(\"dataset_comb.csv\")\n",
    "data = data.sample(frac = 1)\n",
    "data = data.drop(['id'], axis = 1)\n",
    "data[\"Class\"]=data[\"Class\"].replace(to_replace='jasmine',value=0)\n",
    "data[\"Class\"]=data[\"Class\"].replace(to_replace='Gonen',value=1)\n",
    "data = data.to_numpy()\n",
    "data_g = np.array_split(data, 7)"
   ]
  },
  {
   "cell_type": "markdown",
   "metadata": {},
   "source": [
    "## Logistic Regression"
   ]
  },
  {
   "cell_type": "code",
   "execution_count": 3,
   "metadata": {},
   "outputs": [
    {
     "name": "stdout",
     "output_type": "stream",
     "text": [
      "Mean accuracy for test set =  0.9894967380452053\n",
      "Mean accuracy for train set =  0.9893318620462295\n"
     ]
    }
   ],
   "source": [
    "lr_acc_log_test = []\n",
    "lr_acc_log_train = []\n",
    "for i in range(7):\n",
    "    test_data = data_g[i]\n",
    "    X_test = []\n",
    "    y_test = []\n",
    "    X_train = []\n",
    "    y_train = []\n",
    "    for j in range(7):\n",
    "        if j!=i:      #creating training dataset\n",
    "            for w in range(len(data_g[j])):\n",
    "                X_train.append(data_g[j][w][:10])\n",
    "                y_train.append(data_g[j][w][10])\n",
    "        elif j == i:      #creating testing dataset\n",
    "            for w in range(len(data_g[j])):\n",
    "                X_test.append(data_g[j][w][:10])\n",
    "                y_test.append(data_g[j][w][10])\n",
    "                \n",
    "    X_test = np.array(X_test)\n",
    "    X_train = np.array(X_train)\n",
    "    y_test = np.array(y_test)\n",
    "    y_train = np.array(y_train)\n",
    "    \n",
    "    model = LogisticRegression(random_state = 0,max_iter=1000)\n",
    "    model.fit(X_train,y_train)\n",
    "    \n",
    "    #predict class\n",
    "    pred_values_test = model.predict(X_test)\n",
    "    pred_values_train = model.predict(X_train)\n",
    "    \n",
    "    acc1_log = accuracy_score(y_test, pred_values_test)\n",
    "    lr_acc_log_test.append(acc1_log)\n",
    "    \n",
    "    acc2_log = accuracy_score(y_train, pred_values_train)\n",
    "    lr_acc_log_train.append(acc2_log)\n",
    "    \n",
    "print(\"Mean accuracy for test set = \", statistics.mean(lr_acc_log_test))\n",
    "print(\"Mean accuracy for train set = \", statistics.mean(lr_acc_log_train))\n"
   ]
  },
  {
   "cell_type": "markdown",
   "metadata": {},
   "source": [
    "## Linear Discriminant Analysis"
   ]
  },
  {
   "cell_type": "code",
   "execution_count": 4,
   "metadata": {},
   "outputs": [
    {
     "name": "stdout",
     "output_type": "stream",
     "text": [
      "Mean accuracy for test set =  0.9866372898268824\n",
      "Mean accuracy for train set =  0.9868023091691969\n"
     ]
    }
   ],
   "source": [
    "lda_acc_log_test = []\n",
    "lda_acc_log_train = []\n",
    "for i in range(7):\n",
    "    test_data = data_g[i]\n",
    "    X_test = []\n",
    "    y_test = []\n",
    "    X_train = []\n",
    "    y_train = []\n",
    "    for j in range(7):\n",
    "        if j!=i:      #creating training dataset\n",
    "            for w in range(len(data_g[j])):\n",
    "                X_train.append(data_g[j][w][:10])\n",
    "                y_train.append(data_g[j][w][10])\n",
    "        elif j == i:      #creating testing dataset\n",
    "            for w in range(len(data_g[j])):\n",
    "                X_test.append(data_g[j][w][:10])\n",
    "                y_test.append(data_g[j][w][10])\n",
    "                \n",
    "    X_test = np.array(X_test)\n",
    "    X_train = np.array(X_train)\n",
    "    y_test = np.array(y_test)\n",
    "    y_train = np.array(y_train)\n",
    "    \n",
    "    model = LinearDiscriminantAnalysis()\n",
    "    model.fit(X_train,y_train)\n",
    "    #pred_values = model.predict(X_test)\n",
    "    #lda_acc = accuracy_score(pred_values , y_test)\n",
    "    \n",
    "    #predict class\n",
    "    pred_values_test = model.predict(X_test)\n",
    "    pred_values_train = model.predict(X_train)\n",
    "    #test_pred_y_log = clf.predict(test_data_xn)\n",
    "    #train_pred_y_log = clf.predict(train_data_xn)\n",
    "    \n",
    "    #calculating and appending accuracies\n",
    "    acc1_lda = accuracy_score(y_test, pred_values_test)\n",
    "    lda_acc_log_test.append(acc1_lda)\n",
    "    \n",
    "    acc2_lda = accuracy_score(y_train, pred_values_train)\n",
    "    lda_acc_log_train.append(acc2_lda)\n",
    "    \n",
    "print(\"Mean accuracy for test set = \", statistics.mean(lda_acc_log_test))\n",
    "print(\"Mean accuracy for train set = \", statistics.mean(lda_acc_log_train))\n",
    "#print('Accuracy of each test fold - {}'.format(lda_acc_score))"
   ]
  },
  {
   "cell_type": "markdown",
   "metadata": {},
   "source": [
    "## Naive Bayes"
   ]
  },
  {
   "cell_type": "code",
   "execution_count": 5,
   "metadata": {},
   "outputs": [
    {
     "name": "stdout",
     "output_type": "stream",
     "text": [
      "Mean accuracy for test set =  0.9767938337601682\n",
      "Mean accuracy for train set =  0.9769223667829512\n"
     ]
    }
   ],
   "source": [
    "nb_acc_log_test = []\n",
    "nb_acc_log_train = []\n",
    "for i in range(7):\n",
    "    test_data = data_g[i]\n",
    "    X_test = []\n",
    "    y_test = []\n",
    "    X_train = []\n",
    "    y_train = []\n",
    "    for j in range(7):\n",
    "        if j!=i:      #creating training dataset\n",
    "            for w in range(len(data_g[j])):\n",
    "                X_train.append(data_g[j][w][:10])\n",
    "                y_train.append(data_g[j][w][10])\n",
    "        elif j == i:      #creating testing dataset\n",
    "            for w in range(len(data_g[j])):\n",
    "                X_test.append(data_g[j][w][:10])\n",
    "                y_test.append(data_g[j][w][10])\n",
    "                \n",
    "    X_test = np.array(X_test)\n",
    "    X_train = np.array(X_train)\n",
    "    y_test = np.array(y_test)\n",
    "    y_train = np.array(y_train)\n",
    "    \n",
    "    model = GaussianNB()\n",
    "    model.fit(X_train,y_train)\n",
    "    #pred_values = model.predict(X_test)\n",
    "    #nb_acc = accuracy_score(pred_values , y_test)\n",
    "    \n",
    "    #predict class\n",
    "    pred_values_test = model.predict(X_test)\n",
    "    pred_values_train = model.predict(X_train)\n",
    "    #test_pred_y_log = clf.predict(test_data_xn)\n",
    "    #train_pred_y_log = clf.predict(train_data_xn)\n",
    "    \n",
    "    #calculating and appending accuracies\n",
    "    acc1_log = accuracy_score(y_test, pred_values_test)\n",
    "    nb_acc_log_test.append(acc1_log)\n",
    "    \n",
    "    acc2_log = accuracy_score(y_train, pred_values_train)\n",
    "    nb_acc_log_train.append(acc2_log)\n",
    "    \n",
    "print(\"Mean accuracy for test set = \", statistics.mean(nb_acc_log_test))\n",
    "print(\"Mean accuracy for train set = \", statistics.mean(nb_acc_log_train))\n",
    "#print('Accuracy of each test fold - {}'.format(nb_acc_score))"
   ]
  },
  {
   "cell_type": "markdown",
   "metadata": {},
   "source": [
    "## Neural Networks"
   ]
  },
  {
   "cell_type": "code",
   "execution_count": 6,
   "metadata": {},
   "outputs": [
    {
     "name": "stdout",
     "output_type": "stream",
     "text": [
      "Mean accuracy for test set =  0.9733298846078648\n",
      "Mean accuracy for train set =  0.9747960098088284\n"
     ]
    }
   ],
   "source": [
    "ann_acc_log_test = []\n",
    "ann_acc_log_train = []\n",
    "for i in range(7):\n",
    "    test_data = data_g[i]\n",
    "    X_test = []\n",
    "    y_test = []\n",
    "    X_train = []\n",
    "    y_train = []\n",
    "    for j in range(7):\n",
    "        if j!=i:      #creating training dataset\n",
    "            for w in range(len(data_g[j])):\n",
    "                X_train.append(data_g[j][w][:10])\n",
    "                y_train.append(data_g[j][w][10])\n",
    "        elif j == i:      #creating testing dataset\n",
    "            for w in range(len(data_g[j])):\n",
    "                X_test.append(data_g[j][w][:10])\n",
    "                y_test.append(data_g[j][w][10])\n",
    "                \n",
    "    X_test = np.array(X_test)\n",
    "    X_train = np.array(X_train)\n",
    "    y_test = np.array(y_test)\n",
    "    y_train = np.array(y_train)\n",
    "    \n",
    "    model = MLPClassifier()\n",
    "    model.fit(X_train,y_train)\n",
    "    #pred_values = model.predict(X_test)\n",
    "    #ann_acc = accuracy_score(pred_values , y_test)\n",
    "    \n",
    "    #predict class\n",
    "    pred_values_test = model.predict(X_test)\n",
    "    pred_values_train = model.predict(X_train)\n",
    "    #test_pred_y_log = clf.predict(test_data_xn)\n",
    "    #train_pred_y_log = clf.predict(train_data_xn)\n",
    "    \n",
    "    #calculating and appending accuracies\n",
    "    acc1_ann = accuracy_score(y_test, pred_values_test)\n",
    "    ann_acc_log_test.append(acc1_ann)\n",
    "    \n",
    "    acc2_ann = accuracy_score(y_train, pred_values_train)\n",
    "    ann_acc_log_train.append(acc2_ann)\n",
    "    \n",
    "print(\"Mean accuracy for test set = \", statistics.mean(ann_acc_log_test))\n",
    "print(\"Mean accuracy for train set = \", statistics.mean(ann_acc_log_train))\n",
    "#print('Accuracy of each test fold - {}'.format(ann_acc_score))"
   ]
  },
  {
   "cell_type": "markdown",
   "metadata": {},
   "source": [
    "## Perceptron"
   ]
  },
  {
   "cell_type": "code",
   "execution_count": 7,
   "metadata": {},
   "outputs": [
    {
     "name": "stdout",
     "output_type": "stream",
     "text": [
      "Mean accuracy for test set =  0.9192223928658133\n",
      "Mean accuracy for train set =  0.9192277148873966\n"
     ]
    }
   ],
   "source": [
    "pp_acc_log_test = []\n",
    "pp_acc_log_train = []\n",
    "for i in range(7):\n",
    "    test_data = data_g[i]\n",
    "    X_test = []\n",
    "    y_test = []\n",
    "    X_train = []\n",
    "    y_train = []\n",
    "    for j in range(7):\n",
    "        if j!=i:      #creating training dataset\n",
    "            for w in range(len(data_g[j])):\n",
    "                X_train.append(data_g[j][w][:10])\n",
    "                y_train.append(data_g[j][w][10])\n",
    "        elif j == i:      #creating testing dataset\n",
    "            for w in range(len(data_g[j])):\n",
    "                X_test.append(data_g[j][w][:10])\n",
    "                y_test.append(data_g[j][w][10])\n",
    "                \n",
    "    X_test = np.array(X_test)\n",
    "    X_train = np.array(X_train)\n",
    "    y_test = np.array(y_test)\n",
    "    y_train = np.array(y_train)\n",
    "    \n",
    "    model = Perceptron(tol = 1e-3, random_state=0)\n",
    "    model.fit(X_train,y_train)\n",
    "    #pred_values = model.predict(X_test)\n",
    "    #pp_acc = accuracy_score(pred_values , y_test)\n",
    "    \n",
    "    #predict class\n",
    "    pred_values_test = model.predict(X_test)\n",
    "    pred_values_train = model.predict(X_train)\n",
    "    #test_pred_y_log = clf.predict(test_data_xn)\n",
    "    #train_pred_y_log = clf.predict(train_data_xn)\n",
    "    \n",
    "    #calculating and appending accuracies\n",
    "    acc1_pp = accuracy_score(y_test, pred_values_test)\n",
    "    pp_acc_log_test.append(acc1_pp)\n",
    "    \n",
    "    acc2_pp = accuracy_score(y_train, pred_values_train)\n",
    "    pp_acc_log_train.append(acc2_pp)\n",
    "    \n",
    "print(\"Mean accuracy for test set = \", statistics.mean(pp_acc_log_test))\n",
    "print(\"Mean accuracy for train set = \", statistics.mean(pp_acc_log_train))\n",
    "#print('Accuracy of each test fold - {}'.format(ann_acc_score))"
   ]
  },
  {
   "cell_type": "markdown",
   "metadata": {},
   "source": [
    "## SVM"
   ]
  },
  {
   "cell_type": "code",
   "execution_count": 8,
   "metadata": {},
   "outputs": [
    {
     "name": "stdout",
     "output_type": "stream",
     "text": [
      "Mean accuracy for test set =  0.9264778862124707\n",
      "Mean accuracy for train set =  0.9264687006015904\n"
     ]
    }
   ],
   "source": [
    "svc_acc_log_test = []\n",
    "svc_acc_log_train = []\n",
    "for i in range(7):\n",
    "    test_data = data_g[i]\n",
    "    X_test = []\n",
    "    y_test = []\n",
    "    X_train = []\n",
    "    y_train = []\n",
    "    for j in range(7):\n",
    "        if j!=i:      #creating training dataset\n",
    "            for w in range(len(data_g[j])):\n",
    "                X_train.append(data_g[j][w][:10])\n",
    "                y_train.append(data_g[j][w][10])\n",
    "        elif j == i:      #creating testing dataset\n",
    "            for w in range(len(data_g[j])):\n",
    "                X_test.append(data_g[j][w][:10])\n",
    "                y_test.append(data_g[j][w][10])\n",
    "                \n",
    "    X_test = np.array(X_test)\n",
    "    X_train = np.array(X_train)\n",
    "    y_test = np.array(y_test)\n",
    "    y_train = np.array(y_train)\n",
    "    \n",
    "    model = SVC(kernel = 'rbf')\n",
    "    model.fit(X_train,y_train)\n",
    "    #pred_values = model.predict(X_test)\n",
    "    #lr_acc = accuracy_score(pred_values , y_test)\n",
    "    \n",
    "    #predict class\n",
    "    pred_values_test = model.predict(X_test)\n",
    "    pred_values_train = model.predict(X_train)\n",
    "    #test_pred_y_log = clf.predict(test_data_xn)\n",
    "    #train_pred_y_log = clf.predict(train_data_xn)\n",
    "    \n",
    "    #calculating and appending accuracies\n",
    "    acc1_log = accuracy_score(y_test, pred_values_test)\n",
    "    svc_acc_log_test.append(acc1_log)\n",
    "    \n",
    "    acc2_log = accuracy_score(y_train, pred_values_train)\n",
    "    svc_acc_log_train.append(acc2_log)\n",
    "    \n",
    "print(\"Mean accuracy for test set = \", statistics.mean(svc_acc_log_test))\n",
    "print(\"Mean accuracy for train set = \", statistics.mean(svc_acc_log_train))\n",
    "#print('Accuracy of each test fold - {}'.format(lr_acc_score))"
   ]
  },
  {
   "cell_type": "markdown",
   "metadata": {},
   "source": [
    "### Box Plots"
   ]
  },
  {
   "cell_type": "code",
   "execution_count": 18,
   "metadata": {},
   "outputs": [
    {
     "data": {
      "image/png": "[encoded data removed]",
      "text/plain": [
       "<Figure size 576x396 with 1 Axes>"
      ]
     },
     "metadata": {},
     "output_type": "display_data"
    },
    {
     "data": {
      "image/png": "[encoded data removed]",
      "text/plain": [
       "<Figure size 576x396 with 1 Axes>"
      ]
     },
     "metadata": {},
     "output_type": "display_data"
    }
   ],
   "source": [
    "fig, ax = plt.subplots()\n",
    "ax.boxplot([lr_acc_log_test, lda_acc_log_test, nb_acc_log_test, ann_acc_log_test, pp_acc_log_test,svc_acc_log_test])\n",
    "ax.set_xticklabels(['Log Regr','Fisher','NB','ANN','Perceptron','SVM'])\n",
    "plt.ylim([0.9,1.01])\n",
    "plt.show()\n",
    "\n",
    "fig, ax = plt.subplots()\n",
    "ax.boxplot([lr_acc_log_train, lda_acc_log_train, nb_acc_log_train, ann_acc_log_train, pp_acc_log_train,svc_acc_log_train])\n",
    "ax.set_xticklabels(['Log Regr','Fisher','NB','ANN','Perceptron','SVM'])\n",
    "plt.ylim([0.9,1.01])\n",
    "plt.show()"
   ]
  },
  {
   "cell_type": "code",
   "execution_count": null,
   "metadata": {},
   "outputs": [],
   "source": []
  }
 ],
 "metadata": {
  "kernelspec": {
   "display_name": "Python 3",
   "language": "python",
   "name": "python3"
  },
  "language_info": {
   "codemirror_mode": {
    "name": "ipython",
    "version": 3
   },
   "file_extension": ".py",
   "mimetype": "text/x-python",
   "name": "python",
   "nbconvert_exporter": "python",
   "pygments_lexer": "ipython3",
   "version": "3.7.7"
  }
 },
 "nbformat": 4,
 "nbformat_minor": 4
}
