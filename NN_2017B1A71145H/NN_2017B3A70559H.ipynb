{
 "cells": [
  {
   "cell_type": "markdown",
   "metadata": {},
   "source": [
    "# Importing all the required libraries"
   ]
  },
  {
   "cell_type": "code",
   "execution_count": 1,
   "metadata": {},
   "outputs": [],
   "source": [
    "import numpy as np\n",
    "import pandas as pd\n",
    "import matplotlib.pyplot as plt\n",
    "plt.style.use(\"seaborn\")"
   ]
  },
  {
   "cell_type": "markdown",
   "metadata": {},
   "source": [
    "# Reading the CSV file"
   ]
  },
  {
   "cell_type": "code",
   "execution_count": 2,
   "metadata": {},
   "outputs": [],
   "source": [
    "data=pd.read_csv(\"dataset_NN.csv\")\n",
    "data=data.values"
   ]
  },
  {
   "cell_type": "code",
   "execution_count": 3,
   "metadata": {},
   "outputs": [],
   "source": [
    "np.random.seed(10)\n",
    "np.random.shuffle(data)"
   ]
  },
  {
   "cell_type": "markdown",
   "metadata": {},
   "source": [
    "# Splitting the data into training and testing"
   ]
  },
  {
   "cell_type": "code",
   "execution_count": 4,
   "metadata": {},
   "outputs": [],
   "source": [
    "size = int(0.7 * len(data))\n",
    "X_train=data[:size,:-1]\n",
    "Y_train=data[:size,-1]\n",
    "Y_train=Y_train.astype(int)\n",
    "X_test=data[size:,:-1]\n",
    "Y_test=data[size:,-1]\n",
    "Y_test=Y_test.astype(int)\n",
    "m=np.mean(X_train,axis=0)\n",
    "s=np.std(X_train,axis=0)\n",
    "X_train=(X_train-m)/s\n",
    "m=np.mean(X_test,axis=0)\n",
    "s=np.std(X_test,axis=0)\n",
    "X_test=(X_test-m)/s"
   ]
  },
  {
   "cell_type": "markdown",
   "metadata": {},
   "source": [
    "# Sigmoid function "
   ]
  },
  {
   "cell_type": "code",
   "execution_count": 5,
   "metadata": {},
   "outputs": [],
   "source": [
    "def sigmoid(a):\n",
    "    return 1/(1+np.exp(-a))"
   ]
  },
  {
   "cell_type": "markdown",
   "metadata": {},
   "source": [
    "# Softmax FUnction"
   ]
  },
  {
   "cell_type": "code",
   "execution_count": 6,
   "metadata": {},
   "outputs": [],
   "source": [
    "def softmax(a):\n",
    "    e_pa=np.exp(a)\n",
    "    ans=e_pa/np.sum(e_pa,axis=1,keepdims=True)\n",
    "    return ans"
   ]
  },
  {
   "cell_type": "code",
   "execution_count": 7,
   "metadata": {},
   "outputs": [],
   "source": [
    "class NeuralNetwork:\n",
    "    def __init__(self,input_size=6,layers=[8,8],output_size=10,activationFun=['tanh','tanh']):\n",
    "        np.random.seed(0)\n",
    "        \n",
    "        model={}\n",
    "        \n",
    "        model['W1']=np.random.randn(input_size,layers[0])\n",
    "        model['b1']=np.zeros((1,layers[0]))\n",
    "        model['act1']=activationFun[0]\n",
    "        \n",
    "        model['W2']=np.random.randn(layers[0],layers[1])\n",
    "        model['b2']=np.zeros((1,layers[1]))\n",
    "        model['act2']=activationFun[1]\n",
    "        \n",
    "        model['W3']=np.random.randn(layers[1],output_size)\n",
    "        model['b3']=np.zeros((1,output_size))\n",
    "        \n",
    "        self.model=model\n",
    "    \n",
    "    def forward(self,x):\n",
    "        W1,W2,W3=self.model['W1'],self.model['W2'],self.model['W3']\n",
    "        b1,b2,b3=self.model['b1'],self.model['b2'],self.model['b3']\n",
    "        act1,act2=self.model['act1'],self.model['act2']\n",
    "        \n",
    "        \n",
    "        z1=np.dot(x,W1)+b1\n",
    "        if act1=='tanh':\n",
    "            a1=np.tanh(z1)\n",
    "        elif act1=='sigmoid':\n",
    "            a1=sigmoid(z1)\n",
    "        \n",
    "        z2=np.dot(a1,W2)+b2\n",
    "        if act2=='tanh':\n",
    "            a2=np.tanh(z2)\n",
    "        elif act2=='sigmoid':\n",
    "            a2=sigmoid(z2)\n",
    "        \n",
    "        z3=np.dot(a2,W3)+b3\n",
    "        y_=softmax(z3)\n",
    "        \n",
    "        self.activation_outputs=(a1,a2,y_)\n",
    "        \n",
    "        return y_\n",
    "        \n",
    "    def backward(self,x,y,learning_rate=0.001):\n",
    "        W1,W2,W3=self.model['W1'],self.model['W2'],self.model['W3']\n",
    "        b1,b2,b3=self.model['b1'],self.model['b2'],self.model['b3']\n",
    "        act1,act2=self.model['act1'],self.model['act2']\n",
    "        \n",
    "        m=x.shape[0]\n",
    "        \n",
    "        a1,a2,y_= self.activation_outputs\n",
    "        \n",
    "        delta3=y_- y\n",
    "        dw3=np.dot(a2.T,delta3)\n",
    "        db3=np.sum(delta3,axis=0)/float(m)\n",
    "        \n",
    "        if act2=='tanh':\n",
    "            delta2=(1-np.square(a2))*np.dot(delta3,W3.T)\n",
    "        elif act2=='sigmoid':\n",
    "            delta2=(sigmoid(a2)*(1-sigmoid(a2)))*np.dot(delta3,W3.T)\n",
    "        dw2=np.dot(a1.T,delta2)\n",
    "        db2=np.sum(delta2,axis=0)/float(m)\n",
    "        \n",
    "        if act1=='tanh':\n",
    "            delta1=(1-np.square(a1))*np.dot(delta2,W2.T)\n",
    "        elif act1=='sigmoid':\n",
    "             delta1=(sigmoid(a1)*(1-sigmoid(a1)))*np.dot(delta2,W2.T)\n",
    "        dw1=np.dot(x.T,delta1)\n",
    "        db1=np.sum(delta1,axis=0)/float(m)\n",
    "        \n",
    "        \n",
    "        self.model['W1']-=learning_rate*dw1\n",
    "        self.model['b1']-=learning_rate*db1\n",
    "        \n",
    "        self.model['W2']-=learning_rate*dw2\n",
    "        self.model['b2']-=learning_rate*db2\n",
    "        \n",
    "        self.model['W3']-=learning_rate*dw3\n",
    "        self.model['b3']-=learning_rate*db3\n",
    "        \n",
    "    def predict(self,x):\n",
    "        y_out=self.forward(x)\n",
    "        return np.argmax(y_out,axis=1)+1"
   ]
  },
  {
   "cell_type": "code",
   "execution_count": 8,
   "metadata": {},
   "outputs": [],
   "source": [
    "class NeuralNetwork2:\n",
    "    def __init__(self,input_size=6,layers=[8],output_size=10,activationFun=['tanh']):\n",
    "        np.random.seed(0)\n",
    "        \n",
    "        model={}\n",
    "        \n",
    "        model['W1']=np.random.randn(input_size,layers[0])\n",
    "        model['b1']=np.zeros((1,layers[0]))\n",
    "        model['act1']=activationFun[0]\n",
    "        \n",
    "        model['W2']=np.random.randn(layers[0],output_size)\n",
    "        model['b2']=np.zeros((1,output_size))\n",
    "        \n",
    "        self.model=model\n",
    "    \n",
    "    def forward(self,x):\n",
    "        W1,W2=self.model['W1'],self.model['W2']\n",
    "        b1,b2=self.model['b1'],self.model['b2']\n",
    "        act1=self.model['act1']\n",
    "        \n",
    "        \n",
    "        z1=np.dot(x,W1)+b1\n",
    "        if act1=='tanh':\n",
    "            a1=np.tanh(z1)\n",
    "        elif act1=='sigmoid':\n",
    "            a1=sigmoid(z1)\n",
    "        \n",
    "        z2=np.dot(a1,W2)+b2\n",
    "        y_=softmax(z2)\n",
    "        \n",
    "        self.activation_outputs=(a1,y_)\n",
    "        \n",
    "        return y_\n",
    "        \n",
    "    def backward(self,x,y,learning_rate=0.001):\n",
    "        W1,W2=self.model['W1'],self.model['W2']\n",
    "        b1,b2=self.model['b1'],self.model['b2']\n",
    "        act1=self.model['act1']\n",
    "        \n",
    "        m=x.shape[0]\n",
    "        \n",
    "        a1,y_= self.activation_outputs\n",
    "        \n",
    "        delta2=y_- y\n",
    "        dw2=np.dot(a1.T,delta2)\n",
    "        db2=np.sum(delta2,axis=0)/float(m)\n",
    "        \n",
    "        if act1=='tanh':\n",
    "            delta1=(1-np.square(a1))*np.dot(delta2,W2.T)\n",
    "        elif act1=='sigmoid':\n",
    "            delta1=(sigmoid(a1)*(1-sigmoid(a1)))*np.dot(delta2,W2.T)\n",
    "        dw1=np.dot(x.T,delta1)\n",
    "        db1=np.sum(delta1,axis=0)/float(m)\n",
    "        \n",
    "        \n",
    "        \n",
    "        self.model['W1']-=learning_rate*dw1\n",
    "        self.model['b1']-=learning_rate*db1\n",
    "        \n",
    "        self.model['W2']-=learning_rate*dw2\n",
    "        self.model['b2']-=learning_rate*db2\n",
    "        \n",
    "    def predict(self,x):\n",
    "        y_out=self.forward(x)\n",
    "        return np.argmax(y_out,axis=1)+1"
   ]
  },
  {
   "cell_type": "markdown",
   "metadata": {},
   "source": [
    "# Cross Entropy Loss Function"
   ]
  },
  {
   "cell_type": "code",
   "execution_count": 9,
   "metadata": {},
   "outputs": [],
   "source": [
    "def loss(y_oht,p):\n",
    "    l=-np.mean(y_oht*np.log(p))\n",
    "    return l\n",
    "def one_hot(y,depth):\n",
    "    m=y.shape[0]\n",
    "    y_oht=np.zeros((m,depth))\n",
    "    y_oht[np.arange(m),y-1]=1\n",
    "    return y_oht"
   ]
  },
  {
   "cell_type": "markdown",
   "metadata": {},
   "source": [
    "# Training the Neural Network"
   ]
  },
  {
   "cell_type": "code",
   "execution_count": 10,
   "metadata": {},
   "outputs": [],
   "source": [
    "def train(X,Y,model,epochs,batch_size,learning_rate):\n",
    "    training_loss=[]\n",
    "    acc = []\n",
    "    classes=10\n",
    "    Y_OHT=one_hot(Y,classes)\n",
    "    \n",
    "    batch_size=X.shape[0]\n",
    "    batches=X.shape[0]//batch_size\n",
    "    \n",
    "    for ix in range(epochs):\n",
    "        Y_=model.forward(X)\n",
    "        l=loss(Y_OHT,Y_)\n",
    "        training_loss.append(l)\n",
    "        acc.append(accuracy(X,Y))\n",
    "        for i in range(batches):\n",
    "            X=X[i*batch_size:(i+1)*batch_size,:]\n",
    "            Y_OHT=Y_OHT[i*batch_size:(i+1)*batch_size,:]\n",
    "            model.backward(X,Y_OHT,learning_rate)     \n",
    "#         print(f'iteration {ix} loss value {l}')\n",
    "    return training_loss, acc"
   ]
  },
  {
   "cell_type": "markdown",
   "metadata": {},
   "source": [
    "# Calculating the accuracy of the model"
   ]
  },
  {
   "cell_type": "code",
   "execution_count": 11,
   "metadata": {},
   "outputs": [],
   "source": [
    "def accuracy(X,Y):\n",
    "    Y_pred = model.predict(X)\n",
    "    count=0\n",
    "    for i in range(Y_pred.shape[0]):\n",
    "        if Y_pred[i]==Y[i]:\n",
    "            count+=1\n",
    "    return (count/Y_pred.shape[0])*100"
   ]
  },
  {
   "cell_type": "markdown",
   "metadata": {},
   "source": [
    "# Function to plot the graph"
   ]
  },
  {
   "cell_type": "code",
   "execution_count": 12,
   "metadata": {},
   "outputs": [],
   "source": [
    "def plot_graph(X):\n",
    "    fig = plt.figure(figsize=(8,5))\n",
    "    plt.subplot(1,2,1)\n",
    "    plt.plot(X)\n",
    "    plt.xlabel(\"Epochs\")\n",
    "    plt.ylabel(\"Error\")\n",
    "    plt.title(\"Error vs Epoch\")\n",
    "    plt.tight_layout()\n",
    "    plt.show()"
   ]
  },
  {
   "cell_type": "code",
   "execution_count": 13,
   "metadata": {},
   "outputs": [],
   "source": [
    "model=NeuralNetwork(input_size=6,layers=[8,6],output_size=10,activationFun=['tanh','tanh'])"
   ]
  },
  {
   "cell_type": "markdown",
   "metadata": {},
   "source": [
    "# Calculated Accuracy of the model"
   ]
  },
  {
   "cell_type": "code",
   "execution_count": 14,
   "metadata": {},
   "outputs": [
    {
     "name": "stdout",
     "output_type": "stream",
     "text": [
      "For 2 Hidden Layers\n",
      "Training Accuracy:  75.42857142857143\n",
      "Testing Accuracy:  73.16666666666667\n"
     ]
    }
   ],
   "source": [
    "training_loss, acc = train(X_train,Y_train,model,1000,250,0.001)\n",
    "# training_loss, acc = train(X_train,Y_train,model,1000,250,5)\n",
    "# training_loss, acc = train(X_train,Y_train,model,1000,250,0.000001)\n",
    "print(\"For 2 Hidden Layers\")\n",
    "print(\"Training Accuracy: \",accuracy(X_train,Y_train))\n",
    "print(\"Testing Accuracy: \",accuracy(X_test,Y_test))"
   ]
  },
  {
   "cell_type": "markdown",
   "metadata": {},
   "source": [
    "# Plotting the graph"
   ]
  },
  {
   "cell_type": "code",
   "execution_count": 15,
   "metadata": {},
   "outputs": [
    {
     "data": {
      "image/png": "[encoded data removed]",
      "text/plain": [
       "<Figure size 576x360 with 1 Axes>"
      ]
     },
     "metadata": {},
     "output_type": "display_data"
    }
   ],
   "source": [
    "# plot_graph(acc)\n",
    "plot_graph(training_loss)"
   ]
  },
  {
   "cell_type": "code",
   "execution_count": 16,
   "metadata": {},
   "outputs": [],
   "source": [
    "model=NeuralNetwork2(input_size=6,layers=[6],output_size=10,activationFun=['tanh'])"
   ]
  },
  {
   "cell_type": "code",
   "execution_count": 17,
   "metadata": {},
   "outputs": [
    {
     "name": "stdout",
     "output_type": "stream",
     "text": [
      "For 1 Hidden Layer\n",
      "Training Accuracy:  75.78571428571429\n",
      "Testing Accuracy:  71.33333333333334\n"
     ]
    }
   ],
   "source": [
    "training_loss,acc=train(X_train,Y_train,model,1000,200,0.001)\n",
    "# training_loss,acc=train(X_train,Y_train,model,1000,200,5)\n",
    "# training_loss,acc=train(X_train,Y_train,model,1000,200,0.000001)\n",
    "print(\"For 1 Hidden Layer\")\n",
    "print(\"Training Accuracy: \",accuracy(X_train,Y_train))\n",
    "print(\"Testing Accuracy: \",accuracy(X_test,Y_test))"
   ]
  },
  {
   "cell_type": "code",
   "execution_count": 18,
   "metadata": {},
   "outputs": [
    {
     "data": {
      "image/png": "[encoded data removed]",
      "text/plain": [
       "<Figure size 576x360 with 1 Axes>"
      ]
     },
     "metadata": {},
     "output_type": "display_data"
    }
   ],
   "source": [
    "# plot_graph(acc)\n",
    "plot_graph(training_loss)"
   ]
  },
  {
   "cell_type": "code",
   "execution_count": null,
   "metadata": {},
   "outputs": [],
   "source": []
  }
 ],
 "metadata": {
  "kernelspec": {
   "display_name": "Python 3",
   "language": "python",
   "name": "python3"
  },
  "language_info": {
   "codemirror_mode": {
    "name": "ipython",
    "version": 3
   },
   "file_extension": ".py",
   "mimetype": "text/x-python",
   "name": "python",
   "nbconvert_exporter": "python",
   "pygments_lexer": "ipython3",
   "version": "3.6.5"
  }
 },
 "nbformat": 4,
 "nbformat_minor": 4
}
